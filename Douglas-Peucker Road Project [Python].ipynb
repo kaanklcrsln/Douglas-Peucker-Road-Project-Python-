{
 "cells": [
  {
   "cell_type": "code",
   "execution_count": 1,
   "id": "72af4ca7",
   "metadata": {},
   "outputs": [],
   "source": [
    "import json\n",
    "import math\n",
    "\n",
    "class DP:\n",
    "    def __init__(self, epsilon):\n",
    "        self.epsilon = epsilon\n",
    "        self.points = []\n",
    "\n",
    "    def read_geojson(self, file_path):\n",
    "        with open(file_path, 'r') as file:\n",
    "            data = json.load(file)\n",
    "            features = data['features'][0]['geometry']['coordinates']\n",
    "            self.points = self.flatten_coordinates(features)\n",
    "\n",
    "    def flatten_coordinates(self, coordinates):\n",
    "        flattened = []\n",
    "        for point in coordinates:\n",
    "            if isinstance(point[0], list):\n",
    "                flattened.extend(self.flatten_coordinates(point))\n",
    "            else:\n",
    "                flattened.append(point)\n",
    "        return flattened\n",
    "\n",
    "    def write_geojson(self, output_file, coordinates):\n",
    "        feature = {\n",
    "            \"type\": \"Feature\",\n",
    "            \"geometry\": {\n",
    "                \"type\": \"LineString\",\n",
    "                \"coordinates\": coordinates\n",
    "            },\n",
    "            \"properties\": {}\n",
    "        }\n",
    "        output_data = {\"type\": \"FeatureCollection\", \"features\": [feature]}\n",
    "        with open(output_file, 'w') as file:\n",
    "            json.dump(output_data, file, indent=2)\n",
    "\n",
    "    def distance(self, p1, p2, p):\n",
    "        x1, y1 = p1\n",
    "        x2, y2 = p2\n",
    "        x, y = p\n",
    "        return abs((y2 - y1) * x - (x2 - x1) * y + x2 * y1 - y2 * x1) / math.sqrt((y2 - y1)**2 + (x2 - x1)**2)\n",
    "\n",
    "    def douglas_peucker(self, start, end):\n",
    "        if len(self.points) <= 2:\n",
    "            return [self.points[start], self.points[end]]\n",
    "\n",
    "        d_max = 0\n",
    "        index = 0\n",
    "\n",
    "        for i in range(start + 1, end):\n",
    "            d = self.distance(self.points[start], self.points[end], self.points[i])\n",
    "            if d > d_max:\n",
    "                d_max = d\n",
    "                index = i\n",
    "\n",
    "        result = []\n",
    "\n",
    "        if d_max > self.epsilon:\n",
    "            rec_results1 = self.douglas_peucker(start, index)\n",
    "            rec_results2 = self.douglas_peucker(index, end)\n",
    "\n",
    "            result = rec_results1[:-1] + rec_results2\n",
    "        else:\n",
    "            result = [self.points[start], self.points[end]]\n",
    "\n",
    "        return result\n",
    "\n",
    "    def simplify(self):\n",
    "        simplified = self.douglas_peucker(0, len(self.points) - 1)\n",
    "        return simplified\n",
    "\n",
    "if __name__ == \"__main__\":\n",
    "    file_path = r'C:\\Users\\ASUS\\Desktop\\Douglas\\bodrum.geojson'\n",
    "    output_file = 'out.geojson'\n",
    "    epsilon = 0.005\n",
    "\n",
    "    dp = DP(epsilon)\n",
    "    dp.read_geojson(file_path)\n",
    "    simplified_points = dp.simplify()\n",
    "    dp.write_geojson(output_file, simplified_points)\n"
   ]
  },
  {
   "cell_type": "code",
   "execution_count": 3,
   "id": "47f3ede9",
   "metadata": {},
   "outputs": [
    {
     "data": {
      "image/png": "[encoded data removed]",
      "text/plain": [
       "<Figure size 640x480 with 1 Axes>"
      ]
     },
     "metadata": {},
     "output_type": "display_data"
    }
   ],
   "source": [
    "import geopandas as gpd\n",
    "import matplotlib.pyplot as plt\n",
    "\n",
    "def plot_geojson(file_path):\n",
    "    gdf = gpd.read_file(file_path)\n",
    "    gdf.plot()\n",
    "    plt.show()\n",
    "\n",
    "if __name__ == \"__main__\":\n",
    "    output_file = r'C:\\Users\\ASUS\\Desktop\\Douglas\\out.geojson'\n",
    "    plot_geojson(output_file)\n"
   ]
  },
  {
   "cell_type": "code",
   "execution_count": null,
   "id": "1b93f482",
   "metadata": {},
   "outputs": [],
   "source": []
  }
 ],
 "metadata": {
  "kernelspec": {
   "display_name": "Python 3 (ipykernel)",
   "language": "python",
   "name": "python3"
  },
  "language_info": {
   "codemirror_mode": {
    "name": "ipython",
    "version": 3
   },
   "file_extension": ".py",
   "mimetype": "text/x-python",
   "name": "python",
   "nbconvert_exporter": "python",
   "pygments_lexer": "ipython3",
   "version": "3.9.13"
  }
 },
 "nbformat": 4,
 "nbformat_minor": 5
}
